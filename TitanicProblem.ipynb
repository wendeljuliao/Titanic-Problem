{
 "cells": [
  {
   "cell_type": "markdown",
   "id": "d18e765d-039d-4b29-8fb6-b541240d3fc2",
   "metadata": {},
   "source": [
    "# Cadeira: Ciência de dados"
   ]
  },
  {
   "cell_type": "markdown",
   "id": "ac566941-74d3-4c74-9d6c-8f9c70a32948",
   "metadata": {
    "tags": []
   },
   "source": [
    "## Carregando bibliotecas"
   ]
  },
  {
   "cell_type": "code",
   "execution_count": 2,
   "id": "93bb43c7-2cc7-4cff-945b-072fa7794758",
   "metadata": {},
   "outputs": [],
   "source": [
    "from sklearn.model_selection import cross_val_score, cross_val_predict\n",
    "from sklearn.metrics import confusion_matrix, ConfusionMatrixDisplay\n",
    "\n",
    "import numpy as np\n",
    "import pandas as pd\n",
    "import matplotlib.pyplot as plt\n",
    "import seaborn as sns"
   ]
  },
  {
   "cell_type": "markdown",
   "id": "4a37961d-85fb-49a0-8379-80f5919bcf38",
   "metadata": {},
   "source": [
    "## Carregando dados"
   ]
  },
  {
   "cell_type": "code",
   "execution_count": 8,
   "id": "61355a01-8f91-4af2-9029-53e23527e820",
   "metadata": {},
   "outputs": [
    {
     "data": {
      "text/html": [
       "<div>\n",
       "<style scoped>\n",
       "    .dataframe tbody tr th:only-of-type {\n",
       "        vertical-align: middle;\n",
       "    }\n",
       "\n",
       "    .dataframe tbody tr th {\n",
       "        vertical-align: top;\n",
       "    }\n",
       "\n",
       "    .dataframe thead th {\n",
       "        text-align: right;\n",
       "    }\n",
       "</style>\n",
       "<table border=\"1\" class=\"dataframe\">\n",
       "  <thead>\n",
       "    <tr style=\"text-align: right;\">\n",
       "      <th></th>\n",
       "      <th>PassengerId</th>\n",
       "      <th>Survived</th>\n",
       "      <th>Pclass</th>\n",
       "      <th>Name</th>\n",
       "      <th>Sex</th>\n",
       "      <th>Age</th>\n",
       "      <th>SibSp</th>\n",
       "      <th>Parch</th>\n",
       "      <th>Ticket</th>\n",
       "      <th>Fare</th>\n",
       "      <th>Cabin</th>\n",
       "      <th>Embarked</th>\n",
       "    </tr>\n",
       "  </thead>\n",
       "  <tbody>\n",
       "    <tr>\n",
       "      <th>593</th>\n",
       "      <td>594</td>\n",
       "      <td>0</td>\n",
       "      <td>3</td>\n",
       "      <td>Bourke, Miss. Mary</td>\n",
       "      <td>female</td>\n",
       "      <td>NaN</td>\n",
       "      <td>0</td>\n",
       "      <td>2</td>\n",
       "      <td>364848</td>\n",
       "      <td>7.75</td>\n",
       "      <td>NaN</td>\n",
       "      <td>Q</td>\n",
       "    </tr>\n",
       "    <tr>\n",
       "      <th>820</th>\n",
       "      <td>821</td>\n",
       "      <td>1</td>\n",
       "      <td>1</td>\n",
       "      <td>Hays, Mrs. Charles Melville (Clara Jennings Gr...</td>\n",
       "      <td>female</td>\n",
       "      <td>52.0</td>\n",
       "      <td>1</td>\n",
       "      <td>1</td>\n",
       "      <td>12749</td>\n",
       "      <td>93.50</td>\n",
       "      <td>B69</td>\n",
       "      <td>S</td>\n",
       "    </tr>\n",
       "    <tr>\n",
       "      <th>617</th>\n",
       "      <td>618</td>\n",
       "      <td>0</td>\n",
       "      <td>3</td>\n",
       "      <td>Lobb, Mrs. William Arthur (Cordelia K Stanlick)</td>\n",
       "      <td>female</td>\n",
       "      <td>26.0</td>\n",
       "      <td>1</td>\n",
       "      <td>0</td>\n",
       "      <td>A/5. 3336</td>\n",
       "      <td>16.10</td>\n",
       "      <td>NaN</td>\n",
       "      <td>S</td>\n",
       "    </tr>\n",
       "    <tr>\n",
       "      <th>792</th>\n",
       "      <td>793</td>\n",
       "      <td>0</td>\n",
       "      <td>3</td>\n",
       "      <td>Sage, Miss. Stella Anna</td>\n",
       "      <td>female</td>\n",
       "      <td>NaN</td>\n",
       "      <td>8</td>\n",
       "      <td>2</td>\n",
       "      <td>CA. 2343</td>\n",
       "      <td>69.55</td>\n",
       "      <td>NaN</td>\n",
       "      <td>S</td>\n",
       "    </tr>\n",
       "    <tr>\n",
       "      <th>338</th>\n",
       "      <td>339</td>\n",
       "      <td>1</td>\n",
       "      <td>3</td>\n",
       "      <td>Dahl, Mr. Karl Edwart</td>\n",
       "      <td>male</td>\n",
       "      <td>45.0</td>\n",
       "      <td>0</td>\n",
       "      <td>0</td>\n",
       "      <td>7598</td>\n",
       "      <td>8.05</td>\n",
       "      <td>NaN</td>\n",
       "      <td>S</td>\n",
       "    </tr>\n",
       "  </tbody>\n",
       "</table>\n",
       "</div>"
      ],
      "text/plain": [
       "     PassengerId  Survived  Pclass  \\\n",
       "593          594         0       3   \n",
       "820          821         1       1   \n",
       "617          618         0       3   \n",
       "792          793         0       3   \n",
       "338          339         1       3   \n",
       "\n",
       "                                                  Name     Sex   Age  SibSp  \\\n",
       "593                                 Bourke, Miss. Mary  female   NaN      0   \n",
       "820  Hays, Mrs. Charles Melville (Clara Jennings Gr...  female  52.0      1   \n",
       "617    Lobb, Mrs. William Arthur (Cordelia K Stanlick)  female  26.0      1   \n",
       "792                            Sage, Miss. Stella Anna  female   NaN      8   \n",
       "338                              Dahl, Mr. Karl Edwart    male  45.0      0   \n",
       "\n",
       "     Parch     Ticket   Fare Cabin Embarked  \n",
       "593      2     364848   7.75   NaN        Q  \n",
       "820      1      12749  93.50   B69        S  \n",
       "617      0  A/5. 3336  16.10   NaN        S  \n",
       "792      2   CA. 2343  69.55   NaN        S  \n",
       "338      0       7598   8.05   NaN        S  "
      ]
     },
     "execution_count": 8,
     "metadata": {},
     "output_type": "execute_result"
    }
   ],
   "source": [
    "df_dados = pd.read_csv('train.csv')\n",
    "\n",
    "df_dados = df_dados.sample(frac=1)\n",
    "\n",
    "df_dados.head(5)"
   ]
  },
  {
   "cell_type": "markdown",
   "id": "7ce02625-13db-4cae-b1b8-14c535b82516",
   "metadata": {},
   "source": [
    "# 2. Análise Exploratória"
   ]
  },
  {
   "cell_type": "markdown",
   "id": "3edefa8f-1667-4f50-8e1f-5dc1949e5e92",
   "metadata": {},
   "source": [
    "## 2.1 Informações dos dados"
   ]
  },
  {
   "cell_type": "code",
   "execution_count": 42,
   "id": "997a9f2d-cfbc-477c-99dc-4cab12f0c99d",
   "metadata": {},
   "outputs": [
    {
     "name": "stdout",
     "output_type": "stream",
     "text": [
      "<class 'pandas.core.frame.DataFrame'>\n",
      "Int64Index: 891 entries, 593 to 212\n",
      "Data columns (total 12 columns):\n",
      " #   Column       Non-Null Count  Dtype  \n",
      "---  ------       --------------  -----  \n",
      " 0   PassengerId  891 non-null    int64  \n",
      " 1   Survived     891 non-null    int64  \n",
      " 2   Pclass       891 non-null    int64  \n",
      " 3   Name         891 non-null    object \n",
      " 4   Sex          891 non-null    object \n",
      " 5   Age          714 non-null    float64\n",
      " 6   SibSp        891 non-null    int64  \n",
      " 7   Parch        891 non-null    int64  \n",
      " 8   Ticket       891 non-null    object \n",
      " 9   Fare         891 non-null    float64\n",
      " 10  Cabin        204 non-null    object \n",
      " 11  Embarked     889 non-null    object \n",
      "dtypes: float64(2), int64(5), object(5)\n",
      "memory usage: 90.5+ KB\n"
     ]
    }
   ],
   "source": [
    "df_dados.info()"
   ]
  },
  {
   "cell_type": "code",
   "execution_count": 51,
   "id": "0ab5c74c-7f1a-4b28-a23a-cdbd63af5eed",
   "metadata": {},
   "outputs": [
    {
     "data": {
      "text/plain": [
       "3    491\n",
       "1    216\n",
       "2    184\n",
       "Name: Pclass, dtype: int64"
      ]
     },
     "execution_count": 51,
     "metadata": {},
     "output_type": "execute_result"
    }
   ],
   "source": [
    "df_dados['Pclass'].value_counts()"
   ]
  },
  {
   "cell_type": "code",
   "execution_count": 44,
   "id": "30f8bea7-a35c-418e-a80b-8fd519f0ba34",
   "metadata": {},
   "outputs": [
    {
     "data": {
      "text/plain": [
       "male      577\n",
       "female    314\n",
       "Name: Sex, dtype: int64"
      ]
     },
     "execution_count": 44,
     "metadata": {},
     "output_type": "execute_result"
    }
   ],
   "source": [
    "df_dados['Sex'].value_counts()"
   ]
  },
  {
   "cell_type": "code",
   "execution_count": 65,
   "id": "aed4033a-c1df-4fa8-83b5-34f03aef18b7",
   "metadata": {},
   "outputs": [
    {
     "data": {
      "text/plain": [
       "S    644\n",
       "C    168\n",
       "Q     77\n",
       "Name: Embarked, dtype: int64"
      ]
     },
     "execution_count": 65,
     "metadata": {},
     "output_type": "execute_result"
    }
   ],
   "source": [
    "df_dados['Embarked'].value_counts()"
   ]
  },
  {
   "cell_type": "markdown",
   "id": "9c1cdb0b-cd4c-4097-8de7-3aec0b4730f5",
   "metadata": {},
   "source": [
    "## 2.2 Probabilidade de homens e mulheres sobreviventes"
   ]
  },
  {
   "cell_type": "code",
   "execution_count": 64,
   "id": "1b03a398-b071-477a-a154-5f13a434790f",
   "metadata": {},
   "outputs": [
    {
     "data": {
      "image/png": "[encoded data removed]",
      "text/plain": [
       "<Figure size 640x480 with 1 Axes>"
      ]
     },
     "metadata": {},
     "output_type": "display_data"
    }
   ],
   "source": [
    "df_dados_male_survived = df_dados[(df_dados['Sex'] == 'male') & (df_dados['Survived'] == 1)]\n",
    "df_dados_female_survived = df_dados[(df_dados['Sex'] == 'female') & (df_dados['Survived'] == 1)]\n",
    "\n",
    "quant_male = len(df_dados[df_dados['Sex'] == 'male'])\n",
    "quant_female = len(df_dados[df_dados['Sex'] == 'female'])\n",
    "\n",
    "prob_male_survived = len(df_dados_male_survived) / quant_male\n",
    "prob_female_survived = len(df_dados_female_survived) / quant_female\n",
    "\n",
    "plt.bar(['homens', 'mulheres'], [prob_male_survived, prob_female_survived], color=['blue', 'red'])\n",
    "\n",
    "plt.show()"
   ]
  },
  {
   "cell_type": "markdown",
   "id": "cdcbc013-9694-436d-b4dd-5e9cd7a49907",
   "metadata": {},
   "source": [
    "## 2.3 Sobreviventes por classe de ingresso"
   ]
  },
  {
   "cell_type": "code",
   "execution_count": 62,
   "id": "70ddaecc-4319-4439-b9fc-9817547b09ff",
   "metadata": {},
   "outputs": [
    {
     "data": {
      "image/png": "[encoded data removed]",
      "text/plain": [
       "<Figure size 640x480 with 1 Axes>"
      ]
     },
     "metadata": {},
     "output_type": "display_data"
    }
   ],
   "source": [
    "df_dados_survived_pclass1 = df_dados[(df_dados['Pclass'] == 1) & (df_dados['Survived'] == 1)]\n",
    "df_dados_survived_pclass2 = df_dados[(df_dados['Pclass'] == 2) & (df_dados['Survived'] == 1)]\n",
    "df_dados_survived_pclass3 = df_dados[(df_dados['Pclass'] == 3) & (df_dados['Survived'] == 1)]\n",
    "\n",
    "quant_pclass1 = len(df_dados[df_dados['Pclass'] == 1])\n",
    "quant_pclass2 = len(df_dados[df_dados['Pclass'] == 2])\n",
    "quant_pclass3 = len(df_dados[df_dados['Pclass'] == 3])\n",
    "\n",
    "prob_survived_pclass1 = len(df_dados_survived_pclass1) / quant_pclass1\n",
    "prob_survived_pclass2 = len(df_dados_survived_pclass2) / quant_pclass2\n",
    "prob_survived_pclass3 = len(df_dados_survived_pclass3) / quant_pclass3\n",
    "\n",
    "plt.bar(['Pclass1', 'Pclass2', 'Pclass3'], [prob_survived_pclass1, prob_survived_pclass2, prob_survived_pclass3], color=['blue', 'red', 'purple'])\n",
    "\n",
    "plt.show()"
   ]
  },
  {
   "cell_type": "markdown",
   "id": "03ef2795-28fe-4127-95ab-921e812f7cbd",
   "metadata": {},
   "source": [
    "## 2.4 Sobreviventes por pontos de embarque (C, Q ou S)"
   ]
  },
  {
   "cell_type": "code",
   "execution_count": null,
   "id": "05d7956d-b901-48a3-9db3-7d1a22d88d89",
   "metadata": {},
   "outputs": [],
   "source": []
  }
 ],
 "metadata": {
  "kernelspec": {
   "display_name": "Python 3 (ipykernel)",
   "language": "python",
   "name": "python3"
  },
  "language_info": {
   "codemirror_mode": {
    "name": "ipython",
    "version": 3
   },
   "file_extension": ".py",
   "mimetype": "text/x-python",
   "name": "python",
   "nbconvert_exporter": "python",
   "pygments_lexer": "ipython3",
   "version": "3.10.9"
  }
 },
 "nbformat": 4,
 "nbformat_minor": 5
}
