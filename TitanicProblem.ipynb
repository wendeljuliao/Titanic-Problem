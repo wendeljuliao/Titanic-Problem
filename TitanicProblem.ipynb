{
 "cells": [
  {
   "cell_type": "markdown",
   "id": "d18e765d-039d-4b29-8fb6-b541240d3fc2",
   "metadata": {},
   "source": [
    "# Cadeira: Ciência de dados"
   ]
  },
  {
   "cell_type": "markdown",
   "id": "ac566941-74d3-4c74-9d6c-8f9c70a32948",
   "metadata": {
    "tags": []
   },
   "source": [
    "## Carregando bibliotecas"
   ]
  },
  {
   "cell_type": "code",
   "execution_count": 1,
   "id": "93bb43c7-2cc7-4cff-945b-072fa7794758",
   "metadata": {},
   "outputs": [],
   "source": [
    "from sklearn.model_selection import cross_val_score, cross_val_predict\n",
    "from sklearn.metrics import confusion_matrix, ConfusionMatrixDisplay\n",
    "from sklearn.preprocessing import LabelEncoder\n",
    "\n",
    "import numpy as np\n",
    "import pandas as pd\n",
    "import matplotlib.pyplot as plt\n",
    "import seaborn as sns"
   ]
  },
  {
   "cell_type": "markdown",
   "id": "4a37961d-85fb-49a0-8379-80f5919bcf38",
   "metadata": {},
   "source": [
    "## Carregando dados"
   ]
  },
  {
   "cell_type": "code",
   "execution_count": 2,
   "id": "61355a01-8f91-4af2-9029-53e23527e820",
   "metadata": {},
   "outputs": [
    {
     "data": {
      "text/html": [
       "<div>\n",
       "<style scoped>\n",
       "    .dataframe tbody tr th:only-of-type {\n",
       "        vertical-align: middle;\n",
       "    }\n",
       "\n",
       "    .dataframe tbody tr th {\n",
       "        vertical-align: top;\n",
       "    }\n",
       "\n",
       "    .dataframe thead th {\n",
       "        text-align: right;\n",
       "    }\n",
       "</style>\n",
       "<table border=\"1\" class=\"dataframe\">\n",
       "  <thead>\n",
       "    <tr style=\"text-align: right;\">\n",
       "      <th></th>\n",
       "      <th>PassengerId</th>\n",
       "      <th>Survived</th>\n",
       "      <th>Pclass</th>\n",
       "      <th>Name</th>\n",
       "      <th>Sex</th>\n",
       "      <th>Age</th>\n",
       "      <th>SibSp</th>\n",
       "      <th>Parch</th>\n",
       "      <th>Ticket</th>\n",
       "      <th>Fare</th>\n",
       "      <th>Cabin</th>\n",
       "      <th>Embarked</th>\n",
       "    </tr>\n",
       "  </thead>\n",
       "  <tbody>\n",
       "    <tr>\n",
       "      <th>26</th>\n",
       "      <td>27</td>\n",
       "      <td>0</td>\n",
       "      <td>3</td>\n",
       "      <td>Emir, Mr. Farred Chehab</td>\n",
       "      <td>male</td>\n",
       "      <td>NaN</td>\n",
       "      <td>0</td>\n",
       "      <td>0</td>\n",
       "      <td>2631</td>\n",
       "      <td>7.2250</td>\n",
       "      <td>NaN</td>\n",
       "      <td>C</td>\n",
       "    </tr>\n",
       "    <tr>\n",
       "      <th>194</th>\n",
       "      <td>195</td>\n",
       "      <td>1</td>\n",
       "      <td>1</td>\n",
       "      <td>Brown, Mrs. James Joseph (Margaret Tobin)</td>\n",
       "      <td>female</td>\n",
       "      <td>44.0</td>\n",
       "      <td>0</td>\n",
       "      <td>0</td>\n",
       "      <td>PC 17610</td>\n",
       "      <td>27.7208</td>\n",
       "      <td>B4</td>\n",
       "      <td>C</td>\n",
       "    </tr>\n",
       "    <tr>\n",
       "      <th>21</th>\n",
       "      <td>22</td>\n",
       "      <td>1</td>\n",
       "      <td>2</td>\n",
       "      <td>Beesley, Mr. Lawrence</td>\n",
       "      <td>male</td>\n",
       "      <td>34.0</td>\n",
       "      <td>0</td>\n",
       "      <td>0</td>\n",
       "      <td>248698</td>\n",
       "      <td>13.0000</td>\n",
       "      <td>D56</td>\n",
       "      <td>S</td>\n",
       "    </tr>\n",
       "    <tr>\n",
       "      <th>879</th>\n",
       "      <td>880</td>\n",
       "      <td>1</td>\n",
       "      <td>1</td>\n",
       "      <td>Potter, Mrs. Thomas Jr (Lily Alexenia Wilson)</td>\n",
       "      <td>female</td>\n",
       "      <td>56.0</td>\n",
       "      <td>0</td>\n",
       "      <td>1</td>\n",
       "      <td>11767</td>\n",
       "      <td>83.1583</td>\n",
       "      <td>C50</td>\n",
       "      <td>C</td>\n",
       "    </tr>\n",
       "    <tr>\n",
       "      <th>460</th>\n",
       "      <td>461</td>\n",
       "      <td>1</td>\n",
       "      <td>1</td>\n",
       "      <td>Anderson, Mr. Harry</td>\n",
       "      <td>male</td>\n",
       "      <td>48.0</td>\n",
       "      <td>0</td>\n",
       "      <td>0</td>\n",
       "      <td>19952</td>\n",
       "      <td>26.5500</td>\n",
       "      <td>E12</td>\n",
       "      <td>S</td>\n",
       "    </tr>\n",
       "  </tbody>\n",
       "</table>\n",
       "</div>"
      ],
      "text/plain": [
       "     PassengerId  Survived  Pclass  \\\n",
       "26            27         0       3   \n",
       "194          195         1       1   \n",
       "21            22         1       2   \n",
       "879          880         1       1   \n",
       "460          461         1       1   \n",
       "\n",
       "                                              Name     Sex   Age  SibSp  \\\n",
       "26                         Emir, Mr. Farred Chehab    male   NaN      0   \n",
       "194      Brown, Mrs. James Joseph (Margaret Tobin)  female  44.0      0   \n",
       "21                           Beesley, Mr. Lawrence    male  34.0      0   \n",
       "879  Potter, Mrs. Thomas Jr (Lily Alexenia Wilson)  female  56.0      0   \n",
       "460                            Anderson, Mr. Harry    male  48.0      0   \n",
       "\n",
       "     Parch    Ticket     Fare Cabin Embarked  \n",
       "26       0      2631   7.2250   NaN        C  \n",
       "194      0  PC 17610  27.7208    B4        C  \n",
       "21       0    248698  13.0000   D56        S  \n",
       "879      1     11767  83.1583   C50        C  \n",
       "460      0     19952  26.5500   E12        S  "
      ]
     },
     "execution_count": 2,
     "metadata": {},
     "output_type": "execute_result"
    }
   ],
   "source": [
    "df_dados = pd.read_csv('train.csv')\n",
    "\n",
    "df_dados = df_dados.sample(frac=1)\n",
    "\n",
    "df_dados.head(5)"
   ]
  },
  {
   "cell_type": "code",
   "execution_count": 3,
   "id": "0e38f70e-396a-4968-900d-ed332b3d13c0",
   "metadata": {},
   "outputs": [
    {
     "data": {
      "text/html": [
       "<div>\n",
       "<style scoped>\n",
       "    .dataframe tbody tr th:only-of-type {\n",
       "        vertical-align: middle;\n",
       "    }\n",
       "\n",
       "    .dataframe tbody tr th {\n",
       "        vertical-align: top;\n",
       "    }\n",
       "\n",
       "    .dataframe thead th {\n",
       "        text-align: right;\n",
       "    }\n",
       "</style>\n",
       "<table border=\"1\" class=\"dataframe\">\n",
       "  <thead>\n",
       "    <tr style=\"text-align: right;\">\n",
       "      <th></th>\n",
       "      <th>PassengerId</th>\n",
       "      <th>Pclass</th>\n",
       "      <th>Name</th>\n",
       "      <th>Sex</th>\n",
       "      <th>Age</th>\n",
       "      <th>SibSp</th>\n",
       "      <th>Parch</th>\n",
       "      <th>Ticket</th>\n",
       "      <th>Fare</th>\n",
       "      <th>Cabin</th>\n",
       "      <th>Embarked</th>\n",
       "    </tr>\n",
       "  </thead>\n",
       "  <tbody>\n",
       "    <tr>\n",
       "      <th>0</th>\n",
       "      <td>892</td>\n",
       "      <td>3</td>\n",
       "      <td>Kelly, Mr. James</td>\n",
       "      <td>male</td>\n",
       "      <td>34.5</td>\n",
       "      <td>0</td>\n",
       "      <td>0</td>\n",
       "      <td>330911</td>\n",
       "      <td>7.8292</td>\n",
       "      <td>NaN</td>\n",
       "      <td>Q</td>\n",
       "    </tr>\n",
       "    <tr>\n",
       "      <th>1</th>\n",
       "      <td>893</td>\n",
       "      <td>3</td>\n",
       "      <td>Wilkes, Mrs. James (Ellen Needs)</td>\n",
       "      <td>female</td>\n",
       "      <td>47.0</td>\n",
       "      <td>1</td>\n",
       "      <td>0</td>\n",
       "      <td>363272</td>\n",
       "      <td>7.0000</td>\n",
       "      <td>NaN</td>\n",
       "      <td>S</td>\n",
       "    </tr>\n",
       "    <tr>\n",
       "      <th>2</th>\n",
       "      <td>894</td>\n",
       "      <td>2</td>\n",
       "      <td>Myles, Mr. Thomas Francis</td>\n",
       "      <td>male</td>\n",
       "      <td>62.0</td>\n",
       "      <td>0</td>\n",
       "      <td>0</td>\n",
       "      <td>240276</td>\n",
       "      <td>9.6875</td>\n",
       "      <td>NaN</td>\n",
       "      <td>Q</td>\n",
       "    </tr>\n",
       "    <tr>\n",
       "      <th>3</th>\n",
       "      <td>895</td>\n",
       "      <td>3</td>\n",
       "      <td>Wirz, Mr. Albert</td>\n",
       "      <td>male</td>\n",
       "      <td>27.0</td>\n",
       "      <td>0</td>\n",
       "      <td>0</td>\n",
       "      <td>315154</td>\n",
       "      <td>8.6625</td>\n",
       "      <td>NaN</td>\n",
       "      <td>S</td>\n",
       "    </tr>\n",
       "    <tr>\n",
       "      <th>4</th>\n",
       "      <td>896</td>\n",
       "      <td>3</td>\n",
       "      <td>Hirvonen, Mrs. Alexander (Helga E Lindqvist)</td>\n",
       "      <td>female</td>\n",
       "      <td>22.0</td>\n",
       "      <td>1</td>\n",
       "      <td>1</td>\n",
       "      <td>3101298</td>\n",
       "      <td>12.2875</td>\n",
       "      <td>NaN</td>\n",
       "      <td>S</td>\n",
       "    </tr>\n",
       "  </tbody>\n",
       "</table>\n",
       "</div>"
      ],
      "text/plain": [
       "   PassengerId  Pclass                                          Name     Sex  \\\n",
       "0          892       3                              Kelly, Mr. James    male   \n",
       "1          893       3              Wilkes, Mrs. James (Ellen Needs)  female   \n",
       "2          894       2                     Myles, Mr. Thomas Francis    male   \n",
       "3          895       3                              Wirz, Mr. Albert    male   \n",
       "4          896       3  Hirvonen, Mrs. Alexander (Helga E Lindqvist)  female   \n",
       "\n",
       "    Age  SibSp  Parch   Ticket     Fare Cabin Embarked  \n",
       "0  34.5      0      0   330911   7.8292   NaN        Q  \n",
       "1  47.0      1      0   363272   7.0000   NaN        S  \n",
       "2  62.0      0      0   240276   9.6875   NaN        Q  \n",
       "3  27.0      0      0   315154   8.6625   NaN        S  \n",
       "4  22.0      1      1  3101298  12.2875   NaN        S  "
      ]
     },
     "execution_count": 3,
     "metadata": {},
     "output_type": "execute_result"
    }
   ],
   "source": [
    "df_dados_test = pd.read_csv('test.csv')\n",
    "\n",
    "df_dados_test.head(5)"
   ]
  },
  {
   "cell_type": "markdown",
   "id": "7ce02625-13db-4cae-b1b8-14c535b82516",
   "metadata": {},
   "source": [
    "# 2. Análise Exploratória"
   ]
  },
  {
   "cell_type": "markdown",
   "id": "3edefa8f-1667-4f50-8e1f-5dc1949e5e92",
   "metadata": {},
   "source": [
    "## 2.1 Informações dos dados"
   ]
  },
  {
   "cell_type": "code",
   "execution_count": 4,
   "id": "997a9f2d-cfbc-477c-99dc-4cab12f0c99d",
   "metadata": {},
   "outputs": [
    {
     "name": "stdout",
     "output_type": "stream",
     "text": [
      "<class 'pandas.core.frame.DataFrame'>\n",
      "Int64Index: 891 entries, 26 to 700\n",
      "Data columns (total 12 columns):\n",
      " #   Column       Non-Null Count  Dtype  \n",
      "---  ------       --------------  -----  \n",
      " 0   PassengerId  891 non-null    int64  \n",
      " 1   Survived     891 non-null    int64  \n",
      " 2   Pclass       891 non-null    int64  \n",
      " 3   Name         891 non-null    object \n",
      " 4   Sex          891 non-null    object \n",
      " 5   Age          714 non-null    float64\n",
      " 6   SibSp        891 non-null    int64  \n",
      " 7   Parch        891 non-null    int64  \n",
      " 8   Ticket       891 non-null    object \n",
      " 9   Fare         891 non-null    float64\n",
      " 10  Cabin        204 non-null    object \n",
      " 11  Embarked     889 non-null    object \n",
      "dtypes: float64(2), int64(5), object(5)\n",
      "memory usage: 90.5+ KB\n"
     ]
    }
   ],
   "source": [
    "df_dados.info()"
   ]
  },
  {
   "cell_type": "code",
   "execution_count": 5,
   "id": "7622d177-f2d4-4821-bea4-e9026cfefc6d",
   "metadata": {},
   "outputs": [
    {
     "data": {
      "text/plain": [
       "PassengerId      0\n",
       "Survived         0\n",
       "Pclass           0\n",
       "Name             0\n",
       "Sex              0\n",
       "Age            177\n",
       "SibSp            0\n",
       "Parch            0\n",
       "Ticket           0\n",
       "Fare             0\n",
       "Cabin          687\n",
       "Embarked         2\n",
       "dtype: int64"
      ]
     },
     "execution_count": 5,
     "metadata": {},
     "output_type": "execute_result"
    }
   ],
   "source": [
    "df_dados.isnull().sum()"
   ]
  },
  {
   "cell_type": "code",
   "execution_count": 6,
   "id": "0ab5c74c-7f1a-4b28-a23a-cdbd63af5eed",
   "metadata": {},
   "outputs": [
    {
     "data": {
      "text/plain": [
       "3    491\n",
       "1    216\n",
       "2    184\n",
       "Name: Pclass, dtype: int64"
      ]
     },
     "execution_count": 6,
     "metadata": {},
     "output_type": "execute_result"
    }
   ],
   "source": [
    "df_dados['Pclass'].value_counts()"
   ]
  },
  {
   "cell_type": "code",
   "execution_count": 7,
   "id": "30f8bea7-a35c-418e-a80b-8fd519f0ba34",
   "metadata": {},
   "outputs": [
    {
     "data": {
      "text/plain": [
       "male      577\n",
       "female    314\n",
       "Name: Sex, dtype: int64"
      ]
     },
     "execution_count": 7,
     "metadata": {},
     "output_type": "execute_result"
    }
   ],
   "source": [
    "df_dados['Sex'].value_counts()"
   ]
  },
  {
   "cell_type": "code",
   "execution_count": 8,
   "id": "aed4033a-c1df-4fa8-83b5-34f03aef18b7",
   "metadata": {},
   "outputs": [
    {
     "data": {
      "text/plain": [
       "S    644\n",
       "C    168\n",
       "Q     77\n",
       "Name: Embarked, dtype: int64"
      ]
     },
     "execution_count": 8,
     "metadata": {},
     "output_type": "execute_result"
    }
   ],
   "source": [
    "df_dados['Embarked'].value_counts()"
   ]
  },
  {
   "cell_type": "markdown",
   "id": "9c1cdb0b-cd4c-4097-8de7-3aec0b4730f5",
   "metadata": {},
   "source": [
    "## 2.2 Probabilidade de homens sobreviventes em relação a quantidade de homens total e a mesma coisa para a de mulheres"
   ]
  },
  {
   "cell_type": "code",
   "execution_count": 9,
   "id": "1b03a398-b071-477a-a154-5f13a434790f",
   "metadata": {},
   "outputs": [
    {
     "data": {
      "image/png": "[encoded data removed]",
      "text/plain": [
       "<Figure size 640x480 with 1 Axes>"
      ]
     },
     "metadata": {},
     "output_type": "display_data"
    }
   ],
   "source": [
    "df_dados_male_survived = df_dados[(df_dados['Sex'] == 'male') & (df_dados['Survived'] == 1)]\n",
    "df_dados_female_survived = df_dados[(df_dados['Sex'] == 'female') & (df_dados['Survived'] == 1)]\n",
    "\n",
    "quant_male = len(df_dados[df_dados['Sex'] == 'male'])\n",
    "quant_female = len(df_dados[df_dados['Sex'] == 'female'])\n",
    "\n",
    "prob_male_survived = len(df_dados_male_survived) / quant_male\n",
    "prob_female_survived = len(df_dados_female_survived) / quant_female\n",
    "\n",
    "plt.bar(['homens', 'mulheres'], [prob_male_survived, prob_female_survived], color=['blue', 'red'])\n",
    "\n",
    "plt.show()"
   ]
  },
  {
   "cell_type": "markdown",
   "id": "cdcbc013-9694-436d-b4dd-5e9cd7a49907",
   "metadata": {},
   "source": [
    "## 2.3 Sobreviventes por classe de ingresso"
   ]
  },
  {
   "cell_type": "code",
   "execution_count": 10,
   "id": "70ddaecc-4319-4439-b9fc-9817547b09ff",
   "metadata": {},
   "outputs": [
    {
     "data": {
      "image/png": "[encoded data removed]",
      "text/plain": [
       "<Figure size 640x480 with 1 Axes>"
      ]
     },
     "metadata": {},
     "output_type": "display_data"
    }
   ],
   "source": [
    "df_dados_survived_pclass1 = df_dados[(df_dados['Pclass'] == 1) & (df_dados['Survived'] == 1)]\n",
    "df_dados_survived_pclass2 = df_dados[(df_dados['Pclass'] == 2) & (df_dados['Survived'] == 1)]\n",
    "df_dados_survived_pclass3 = df_dados[(df_dados['Pclass'] == 3) & (df_dados['Survived'] == 1)]\n",
    "\n",
    "quant_pclass1 = len(df_dados[df_dados['Pclass'] == 1])\n",
    "quant_pclass2 = len(df_dados[df_dados['Pclass'] == 2])\n",
    "quant_pclass3 = len(df_dados[df_dados['Pclass'] == 3])\n",
    "\n",
    "prob_survived_pclass1 = len(df_dados_survived_pclass1) / quant_pclass1\n",
    "prob_survived_pclass2 = len(df_dados_survived_pclass2) / quant_pclass2\n",
    "prob_survived_pclass3 = len(df_dados_survived_pclass3) / quant_pclass3\n",
    "\n",
    "plt.bar(['Pclass1', 'Pclass2', 'Pclass3'], [prob_survived_pclass1, prob_survived_pclass2, prob_survived_pclass3], color=['blue', 'red', 'purple'])\n",
    "\n",
    "plt.show()"
   ]
  },
  {
   "cell_type": "markdown",
   "id": "03ef2795-28fe-4127-95ab-921e812f7cbd",
   "metadata": {},
   "source": [
    "## 2.4 Sobreviventes por pontos de embarque (C, Q ou S)"
   ]
  },
  {
   "cell_type": "code",
   "execution_count": 11,
   "id": "05d7956d-b901-48a3-9db3-7d1a22d88d89",
   "metadata": {},
   "outputs": [
    {
     "data": {
      "image/png": "[encoded data removed]",
      "text/plain": [
       "<Figure size 640x480 with 1 Axes>"
      ]
     },
     "metadata": {},
     "output_type": "display_data"
    }
   ],
   "source": [
    "df_dados_survived_embarked_C = df_dados[(df_dados['Embarked'] == 'C') & (df_dados['Survived'] == 1)]\n",
    "df_dados_survived_embarked_Q = df_dados[(df_dados['Embarked'] == 'Q') & (df_dados['Survived'] == 1)]\n",
    "df_dados_survived_embarked_S = df_dados[(df_dados['Embarked'] == 'S') & (df_dados['Survived'] == 1)]\n",
    "\n",
    "quant_embarked_C = len(df_dados[df_dados['Embarked'] == 'C'])\n",
    "quant_embarked_Q = len(df_dados[df_dados['Embarked'] == 'Q'])\n",
    "quant_embarked_S = len(df_dados[df_dados['Embarked'] == 'S'])\n",
    "\n",
    "prob_survived_embarked_C = len(df_dados_survived_embarked_C) / quant_embarked_C\n",
    "prob_survived_embarked_Q = len(df_dados_survived_embarked_Q) / quant_embarked_Q\n",
    "prob_survived_embarked_S = len(df_dados_survived_embarked_S) / quant_embarked_S\n",
    "\n",
    "plt.bar(['Embarked C', 'Embarked Q', 'embarked S'], [prob_survived_embarked_C, prob_survived_embarked_Q, prob_survived_embarked_S], color=['blue', 'red', 'purple'])\n",
    "\n",
    "plt.show()"
   ]
  },
  {
   "cell_type": "markdown",
   "id": "a55faeec-0710-4532-bbee-69363b25e351",
   "metadata": {},
   "source": [
    "## 2.5 Tarifa do passageiro"
   ]
  },
  {
   "cell_type": "markdown",
   "id": "65b3ce9a-bb78-4e5b-a58e-2157a0135b82",
   "metadata": {},
   "source": [
    "### 2.5.1 Histograma da tarifa dos passageiros"
   ]
  },
  {
   "cell_type": "code",
   "execution_count": 12,
   "id": "43c0b3a1-1055-446d-bd01-44e415bc8790",
   "metadata": {},
   "outputs": [
    {
     "data": {
      "image/png": "[encoded data removed]",
      "text/plain": [
       "<Figure size 640x480 with 1 Axes>"
      ]
     },
     "metadata": {},
     "output_type": "display_data"
    }
   ],
   "source": [
    "df_dados['Fare'].hist()\n",
    "\n",
    "plt.xlabel(\"Valor da tarifa\")\n",
    "plt.ylabel(\"Quantidade de passageiros\")\n",
    "\n",
    "plt.show()"
   ]
  },
  {
   "cell_type": "markdown",
   "id": "05df811b-577e-40e2-b59b-82c840a03b29",
   "metadata": {},
   "source": [
    "## 2.6 Idade do passageiro"
   ]
  },
  {
   "cell_type": "markdown",
   "id": "0626335b-4f9e-4551-912f-f3859b9dabc1",
   "metadata": {},
   "source": [
    "### 2.6.1 Histograma da idade dos passageiros"
   ]
  },
  {
   "cell_type": "code",
   "execution_count": 13,
   "id": "be9f79eb-f59c-439c-8140-26951bddbc6d",
   "metadata": {},
   "outputs": [
    {
     "data": {
      "image/png": "[encoded data removed]",
      "text/plain": [
       "<Figure size 640x480 with 1 Axes>"
      ]
     },
     "metadata": {},
     "output_type": "display_data"
    }
   ],
   "source": [
    "df_dados['Age'].hist()\n",
    "\n",
    "plt.xlabel(\"Idade\")\n",
    "plt.ylabel(\"Quantidade de passageiros\")\n",
    "\n",
    "plt.show()"
   ]
  },
  {
   "cell_type": "markdown",
   "id": "c0d79c9e-b9fa-4bc7-888c-8aab3383feda",
   "metadata": {},
   "source": [
    "## 3. Preparando os dados"
   ]
  },
  {
   "cell_type": "markdown",
   "id": "ce13e14b-2e39-4521-a646-b827dc8de200",
   "metadata": {},
   "source": [
    "### Transformando variáveis categóricas ordinais em números"
   ]
  },
  {
   "cell_type": "code",
   "execution_count": 14,
   "id": "13a7385f-9618-4ce5-aec5-62a2e91d7502",
   "metadata": {},
   "outputs": [],
   "source": [
    "label_enconder = LabelEncoder()\n",
    "\n",
    "obj_columns = ['Sex', 'Embarked']\n",
    "\n",
    "for col in obj_columns:\n",
    "    df_dados[col] = label_enconder.fit_transform(df_dados[col])"
   ]
  },
  {
   "cell_type": "code",
   "execution_count": 15,
   "id": "a9e60299-bd57-4f72-9b7c-a3da13e7d598",
   "metadata": {},
   "outputs": [
    {
     "data": {
      "text/html": [
       "<div>\n",
       "<style scoped>\n",
       "    .dataframe tbody tr th:only-of-type {\n",
       "        vertical-align: middle;\n",
       "    }\n",
       "\n",
       "    .dataframe tbody tr th {\n",
       "        vertical-align: top;\n",
       "    }\n",
       "\n",
       "    .dataframe thead th {\n",
       "        text-align: right;\n",
       "    }\n",
       "</style>\n",
       "<table border=\"1\" class=\"dataframe\">\n",
       "  <thead>\n",
       "    <tr style=\"text-align: right;\">\n",
       "      <th></th>\n",
       "      <th>PassengerId</th>\n",
       "      <th>Pclass</th>\n",
       "      <th>Name</th>\n",
       "      <th>Sex</th>\n",
       "      <th>Age</th>\n",
       "      <th>SibSp</th>\n",
       "      <th>Parch</th>\n",
       "      <th>Ticket</th>\n",
       "      <th>Fare</th>\n",
       "      <th>Cabin</th>\n",
       "      <th>Embarked</th>\n",
       "    </tr>\n",
       "  </thead>\n",
       "  <tbody>\n",
       "    <tr>\n",
       "      <th>26</th>\n",
       "      <td>27</td>\n",
       "      <td>3</td>\n",
       "      <td>Emir, Mr. Farred Chehab</td>\n",
       "      <td>1</td>\n",
       "      <td>NaN</td>\n",
       "      <td>0</td>\n",
       "      <td>0</td>\n",
       "      <td>2631</td>\n",
       "      <td>7.2250</td>\n",
       "      <td>NaN</td>\n",
       "      <td>0</td>\n",
       "    </tr>\n",
       "    <tr>\n",
       "      <th>194</th>\n",
       "      <td>195</td>\n",
       "      <td>1</td>\n",
       "      <td>Brown, Mrs. James Joseph (Margaret Tobin)</td>\n",
       "      <td>0</td>\n",
       "      <td>44.0</td>\n",
       "      <td>0</td>\n",
       "      <td>0</td>\n",
       "      <td>PC 17610</td>\n",
       "      <td>27.7208</td>\n",
       "      <td>B4</td>\n",
       "      <td>0</td>\n",
       "    </tr>\n",
       "    <tr>\n",
       "      <th>21</th>\n",
       "      <td>22</td>\n",
       "      <td>2</td>\n",
       "      <td>Beesley, Mr. Lawrence</td>\n",
       "      <td>1</td>\n",
       "      <td>34.0</td>\n",
       "      <td>0</td>\n",
       "      <td>0</td>\n",
       "      <td>248698</td>\n",
       "      <td>13.0000</td>\n",
       "      <td>D56</td>\n",
       "      <td>2</td>\n",
       "    </tr>\n",
       "    <tr>\n",
       "      <th>879</th>\n",
       "      <td>880</td>\n",
       "      <td>1</td>\n",
       "      <td>Potter, Mrs. Thomas Jr (Lily Alexenia Wilson)</td>\n",
       "      <td>0</td>\n",
       "      <td>56.0</td>\n",
       "      <td>0</td>\n",
       "      <td>1</td>\n",
       "      <td>11767</td>\n",
       "      <td>83.1583</td>\n",
       "      <td>C50</td>\n",
       "      <td>0</td>\n",
       "    </tr>\n",
       "    <tr>\n",
       "      <th>460</th>\n",
       "      <td>461</td>\n",
       "      <td>1</td>\n",
       "      <td>Anderson, Mr. Harry</td>\n",
       "      <td>1</td>\n",
       "      <td>48.0</td>\n",
       "      <td>0</td>\n",
       "      <td>0</td>\n",
       "      <td>19952</td>\n",
       "      <td>26.5500</td>\n",
       "      <td>E12</td>\n",
       "      <td>2</td>\n",
       "    </tr>\n",
       "    <tr>\n",
       "      <th>...</th>\n",
       "      <td>...</td>\n",
       "      <td>...</td>\n",
       "      <td>...</td>\n",
       "      <td>...</td>\n",
       "      <td>...</td>\n",
       "      <td>...</td>\n",
       "      <td>...</td>\n",
       "      <td>...</td>\n",
       "      <td>...</td>\n",
       "      <td>...</td>\n",
       "      <td>...</td>\n",
       "    </tr>\n",
       "    <tr>\n",
       "      <th>479</th>\n",
       "      <td>480</td>\n",
       "      <td>3</td>\n",
       "      <td>Hirvonen, Miss. Hildur E</td>\n",
       "      <td>0</td>\n",
       "      <td>2.0</td>\n",
       "      <td>0</td>\n",
       "      <td>1</td>\n",
       "      <td>3101298</td>\n",
       "      <td>12.2875</td>\n",
       "      <td>NaN</td>\n",
       "      <td>2</td>\n",
       "    </tr>\n",
       "    <tr>\n",
       "      <th>477</th>\n",
       "      <td>478</td>\n",
       "      <td>3</td>\n",
       "      <td>Braund, Mr. Lewis Richard</td>\n",
       "      <td>1</td>\n",
       "      <td>29.0</td>\n",
       "      <td>1</td>\n",
       "      <td>0</td>\n",
       "      <td>3460</td>\n",
       "      <td>7.0458</td>\n",
       "      <td>NaN</td>\n",
       "      <td>2</td>\n",
       "    </tr>\n",
       "    <tr>\n",
       "      <th>1</th>\n",
       "      <td>2</td>\n",
       "      <td>1</td>\n",
       "      <td>Cumings, Mrs. John Bradley (Florence Briggs Th...</td>\n",
       "      <td>0</td>\n",
       "      <td>38.0</td>\n",
       "      <td>1</td>\n",
       "      <td>0</td>\n",
       "      <td>PC 17599</td>\n",
       "      <td>71.2833</td>\n",
       "      <td>C85</td>\n",
       "      <td>0</td>\n",
       "    </tr>\n",
       "    <tr>\n",
       "      <th>70</th>\n",
       "      <td>71</td>\n",
       "      <td>2</td>\n",
       "      <td>Jenkin, Mr. Stephen Curnow</td>\n",
       "      <td>1</td>\n",
       "      <td>32.0</td>\n",
       "      <td>0</td>\n",
       "      <td>0</td>\n",
       "      <td>C.A. 33111</td>\n",
       "      <td>10.5000</td>\n",
       "      <td>NaN</td>\n",
       "      <td>2</td>\n",
       "    </tr>\n",
       "    <tr>\n",
       "      <th>700</th>\n",
       "      <td>701</td>\n",
       "      <td>1</td>\n",
       "      <td>Astor, Mrs. John Jacob (Madeleine Talmadge Force)</td>\n",
       "      <td>0</td>\n",
       "      <td>18.0</td>\n",
       "      <td>1</td>\n",
       "      <td>0</td>\n",
       "      <td>PC 17757</td>\n",
       "      <td>227.5250</td>\n",
       "      <td>C62 C64</td>\n",
       "      <td>0</td>\n",
       "    </tr>\n",
       "  </tbody>\n",
       "</table>\n",
       "<p>891 rows × 11 columns</p>\n",
       "</div>"
      ],
      "text/plain": [
       "     PassengerId  Pclass                                               Name  \\\n",
       "26            27       3                            Emir, Mr. Farred Chehab   \n",
       "194          195       1          Brown, Mrs. James Joseph (Margaret Tobin)   \n",
       "21            22       2                              Beesley, Mr. Lawrence   \n",
       "879          880       1      Potter, Mrs. Thomas Jr (Lily Alexenia Wilson)   \n",
       "460          461       1                                Anderson, Mr. Harry   \n",
       "..           ...     ...                                                ...   \n",
       "479          480       3                           Hirvonen, Miss. Hildur E   \n",
       "477          478       3                          Braund, Mr. Lewis Richard   \n",
       "1              2       1  Cumings, Mrs. John Bradley (Florence Briggs Th...   \n",
       "70            71       2                         Jenkin, Mr. Stephen Curnow   \n",
       "700          701       1  Astor, Mrs. John Jacob (Madeleine Talmadge Force)   \n",
       "\n",
       "     Sex   Age  SibSp  Parch      Ticket      Fare    Cabin  Embarked  \n",
       "26     1   NaN      0      0        2631    7.2250      NaN         0  \n",
       "194    0  44.0      0      0    PC 17610   27.7208       B4         0  \n",
       "21     1  34.0      0      0      248698   13.0000      D56         2  \n",
       "879    0  56.0      0      1       11767   83.1583      C50         0  \n",
       "460    1  48.0      0      0       19952   26.5500      E12         2  \n",
       "..   ...   ...    ...    ...         ...       ...      ...       ...  \n",
       "479    0   2.0      0      1     3101298   12.2875      NaN         2  \n",
       "477    1  29.0      1      0        3460    7.0458      NaN         2  \n",
       "1      0  38.0      1      0    PC 17599   71.2833      C85         0  \n",
       "70     1  32.0      0      0  C.A. 33111   10.5000      NaN         2  \n",
       "700    0  18.0      1      0    PC 17757  227.5250  C62 C64         0  \n",
       "\n",
       "[891 rows x 11 columns]"
      ]
     },
     "execution_count": 15,
     "metadata": {},
     "output_type": "execute_result"
    }
   ],
   "source": [
    "target = df_dados['Survived'].array\n",
    "\n",
    "df_features = df_dados.drop(columns=['Survived'])\n",
    "\n",
    "df_features"
   ]
  }
 ],
 "metadata": {
  "kernelspec": {
   "display_name": "Python 3 (ipykernel)",
   "language": "python",
   "name": "python3"
  },
  "language_info": {
   "codemirror_mode": {
    "name": "ipython",
    "version": 3
   },
   "file_extension": ".py",
   "mimetype": "text/x-python",
   "name": "python",
   "nbconvert_exporter": "python",
   "pygments_lexer": "ipython3",
   "version": "3.10.9"
  }
 },
 "nbformat": 4,
 "nbformat_minor": 5
}
